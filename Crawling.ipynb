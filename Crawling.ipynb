{
 "cells": [
  {
   "cell_type": "code",
   "execution_count": 1,
   "metadata": {},
   "outputs": [],
   "source": [
    "import tweepy\n",
    "\n",
    "# variable untuk mengakses twitter API\n",
    "ACCESS_TOKEN = 'ACCESS_TOKEN'\n",
    "ACCESS_SECRET = 'ACCESS_SECRET'\n",
    "CONSUMER_KEY = 'CONSUMER_KEY'\n",
    "CONSUMER_SECRET = 'CONSUMER_SECRET'\n",
    "\n",
    "# akses ke API\n",
    "def connect_to_twitter_OAuth():\n",
    "    auth= tweepy.OAuthHandler(CONSUMER_KEY, CONSUMER_SECRET)\n",
    "    auth.set_access_token(ACCESS_TOKEN,ACCESS_SECRET)\n",
    "    \n",
    "    api = tweepy.API(auth)\n",
    "    return api\n",
    "\n",
    "# membuat objek API\n",
    "api = connect_to_twitter_OAuth()"
   ]
  },
  {
   "cell_type": "code",
   "execution_count": 2,
   "metadata": {},
   "outputs": [],
   "source": [
    "# mengakses tweets berdasarkan hastag/keyword kartu prakerja\n",
    "result1 = []\n",
    "\n",
    "for tweet in tweepy.Cursor(api.search, q='kartu prakerja').items(2000):\n",
    "    result1.append(tweet)\n",
    "\n",
    "    \n",
    "# mengakses tweets berdasarkan hastag/keyword #kartuprakerja\n",
    "result2 = []\n",
    "\n",
    "for tweet in tweepy.Cursor(api.search, q='#kartuprakerja').items(2000):\n",
    "    result2.append(tweet)\n",
    "\n",
    "# mengabungkan kedua hasil tweets dalam satu list\n",
    "results = result1 + result2"
   ]
  },
  {
   "cell_type": "code",
   "execution_count": 3,
   "metadata": {},
   "outputs": [],
   "source": [
    "import pandas as pd\n",
    "\n",
    "# mengubah list menjadi dataframe\n",
    "DataSet = pd.DataFrame()\n",
    "DataSet['Tweet'] = [tweet.text for tweet in results]"
   ]
  },
  {
   "cell_type": "code",
   "execution_count": 4,
   "metadata": {},
   "outputs": [
    {
     "data": {
      "text/html": [
       "<div>\n",
       "<style scoped>\n",
       "    .dataframe tbody tr th:only-of-type {\n",
       "        vertical-align: middle;\n",
       "    }\n",
       "\n",
       "    .dataframe tbody tr th {\n",
       "        vertical-align: top;\n",
       "    }\n",
       "\n",
       "    .dataframe thead th {\n",
       "        text-align: right;\n",
       "    }\n",
       "</style>\n",
       "<table border=\"1\" class=\"dataframe\">\n",
       "  <thead>\n",
       "    <tr style=\"text-align: right;\">\n",
       "      <th></th>\n",
       "      <th>Tweet</th>\n",
       "    </tr>\n",
       "  </thead>\n",
       "  <tbody>\n",
       "    <tr>\n",
       "      <th>0</th>\n",
       "      <td>RT @geloraco: Kartu Prakerja Dihentikan, DPR: ...</td>\n",
       "    </tr>\n",
       "    <tr>\n",
       "      <th>1</th>\n",
       "      <td>RT @kumparan: Kartu Prakerja yang digadang-gad...</td>\n",
       "    </tr>\n",
       "    <tr>\n",
       "      <th>2</th>\n",
       "      <td>RT @korantempo: Sebanyak 89 persen konten pela...</td>\n",
       "    </tr>\n",
       "    <tr>\n",
       "      <th>3</th>\n",
       "      <td>RT @kumparan: Kartu Prakerja yang digadang-gad...</td>\n",
       "    </tr>\n",
       "    <tr>\n",
       "      <th>4</th>\n",
       "      <td>RT @korantempo: Sebanyak 89 persen konten pela...</td>\n",
       "    </tr>\n",
       "    <tr>\n",
       "      <th>...</th>\n",
       "      <td>...</td>\n",
       "    </tr>\n",
       "    <tr>\n",
       "      <th>2350</th>\n",
       "      <td>RT @tempodotco: Ketua Komisi Pemberantasan Kor...</td>\n",
       "    </tr>\n",
       "    <tr>\n",
       "      <th>2351</th>\n",
       "      <td>RT @tempodotco: Ketua Komisi Pemberantasan Kor...</td>\n",
       "    </tr>\n",
       "    <tr>\n",
       "      <th>2352</th>\n",
       "      <td>Ketua Komisi Pemberantasan Korupsi Firli Bahur...</td>\n",
       "    </tr>\n",
       "    <tr>\n",
       "      <th>2353</th>\n",
       "      <td>RT @liberto_handry: @jokowi Ironis yah... di s...</td>\n",
       "    </tr>\n",
       "    <tr>\n",
       "      <th>2354</th>\n",
       "      <td>@jokowi Ironis yah... di satu pihak ada yg san...</td>\n",
       "    </tr>\n",
       "  </tbody>\n",
       "</table>\n",
       "<p>2355 rows × 1 columns</p>\n",
       "</div>"
      ],
      "text/plain": [
       "                                                  Tweet\n",
       "0     RT @geloraco: Kartu Prakerja Dihentikan, DPR: ...\n",
       "1     RT @kumparan: Kartu Prakerja yang digadang-gad...\n",
       "2     RT @korantempo: Sebanyak 89 persen konten pela...\n",
       "3     RT @kumparan: Kartu Prakerja yang digadang-gad...\n",
       "4     RT @korantempo: Sebanyak 89 persen konten pela...\n",
       "...                                                 ...\n",
       "2350  RT @tempodotco: Ketua Komisi Pemberantasan Kor...\n",
       "2351  RT @tempodotco: Ketua Komisi Pemberantasan Kor...\n",
       "2352  Ketua Komisi Pemberantasan Korupsi Firli Bahur...\n",
       "2353  RT @liberto_handry: @jokowi Ironis yah... di s...\n",
       "2354  @jokowi Ironis yah... di satu pihak ada yg san...\n",
       "\n",
       "[2355 rows x 1 columns]"
      ]
     },
     "execution_count": 4,
     "metadata": {},
     "output_type": "execute_result"
    }
   ],
   "source": [
    "# menampilkan tweets yang bertipe dataframe\n",
    "DataSet"
   ]
  },
  {
   "cell_type": "code",
   "execution_count": 5,
   "metadata": {},
   "outputs": [],
   "source": [
    "# menyimpan dataset dalam format csv\n",
    "DataSet.to_csv(\"Data.csv\")"
   ]
  },
  {
   "cell_type": "code",
   "execution_count": null,
   "metadata": {},
   "outputs": [],
   "source": []
  }
 ],
 "metadata": {
  "kernelspec": {
   "display_name": "Python 3",
   "language": "python",
   "name": "python3"
  },
  "language_info": {
   "codemirror_mode": {
    "name": "ipython",
    "version": 3
   },
   "file_extension": ".py",
   "mimetype": "text/x-python",
   "name": "python",
   "nbconvert_exporter": "python",
   "pygments_lexer": "ipython3",
   "version": "3.7.6"
  }
 },
 "nbformat": 4,
 "nbformat_minor": 4
}
